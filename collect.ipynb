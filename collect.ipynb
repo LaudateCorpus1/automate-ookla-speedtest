{
 "metadata": {
  "language_info": {
   "codemirror_mode": {
    "name": "ipython",
    "version": 3
   },
   "file_extension": ".py",
   "mimetype": "text/x-python",
   "name": "python",
   "nbconvert_exporter": "python",
   "pygments_lexer": "ipython3",
   "version": "3.8.5-final"
  },
  "orig_nbformat": 2,
  "kernelspec": {
   "name": "python3",
   "display_name": "Python 3",
   "language": "python"
  }
 },
 "nbformat": 4,
 "nbformat_minor": 2,
 "cells": [
  {
   "cell_type": "code",
   "execution_count": 4,
   "metadata": {},
   "outputs": [
    {
     "output_type": "stream",
     "name": "stdout",
     "text": [
      "---\n",
      "Running speed test #0\n",
      "Download: 91.05956 Mbps\n",
      "Upload: 95.640328 Mbps\n",
      "Test #0completed\n",
      "---\n",
      "Running speed test #1\n",
      "Download: 60.464528 Mbps\n",
      "Upload: 94.804128 Mbps\n",
      "Test #1completed\n",
      "---\n",
      "Running speed test #2\n",
      "Download: 87.867904 Mbps\n",
      "Upload: 95.292152 Mbps\n",
      "Test #2completed\n",
      "---\n",
      "Running speed test #3\n",
      "Download: 42.520008 Mbps\n",
      "Upload: 94.491416 Mbps\n",
      "Test #3completed\n",
      "---\n",
      "Running speed test #4\n",
      "Download: 19.609024 Mbps\n",
      "Upload: 90.745104 Mbps\n",
      "Test #4completed\n",
      "Total tests: 4 (failed: 0)\n",
      "\n"
     ]
    }
   ],
   "source": [
    "import subprocess\n",
    "import os\n",
    "import json\n",
    "import pandas as pd\n",
    "\n",
    "outputfile = \".\\internetspeed.json\" #JSON file where the test results are stored\n",
    "testduration = 14 #in days\n",
    "interval = 1 #wait and restart after $interval seconds\n",
    "#numberoftests = testduration*24*60*60/interval #calculated based on $testduration and the $interval\n",
    "numberoftests = 5\n",
    "\n",
    "#initialize\n",
    "failed = 0\n",
    "\n",
    "for i in range(numberoftests):\n",
    "    print(\"---\")\n",
    "    print(\"Running speed test #{i}\".format(i=i+1))\n",
    "\n",
    "    speedtest_result = subprocess.run(\".\\speedtest --format=json-pretty --unit=Mbps\", shell=True, capture_output=True, text=True)\n",
    "    #print(\"stdout:\", speedtest_result.stdout)\n",
    "    #print(\"stderr:\", speedtest_result.stderr)\n",
    "\n",
    "    #convert to JSON object\n",
    "    json_result = json.loads(speedtest_result.stdout)\n",
    "\n",
    "    print(\"Download: {download_speed} Mbps\".format(download_speed=json_result['download']['bandwidth']*8/1000000))\n",
    "    print(\"Upload: {upload_speed} Mbps\".format(upload_speed=json_result['upload']['bandwidth']*8/1000000))\n",
    "    \n",
    "    print(\"Test #{i} completed\".format(i=i+1))\n",
    "    print(\"\")\n",
    "\n",
    "print(\"Total tests: {i} (failed: {failed})\".format(i=i+1, failed=failed))\n",
    "print(\"\")"
   ]
  }
 ]
}